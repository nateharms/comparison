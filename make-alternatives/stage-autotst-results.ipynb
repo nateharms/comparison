{
 "cells": [
  {
   "cell_type": "code",
   "execution_count": 1,
   "metadata": {},
   "outputs": [],
   "source": [
    "import os, shutil"
   ]
  },
  {
   "cell_type": "code",
   "execution_count": 6,
   "metadata": {},
   "outputs": [],
   "source": [
    "results_dir = '/scratch/harms.n/QMScratch/ts'\n",
    "\n",
    "files_to_move = []\n",
    "for master, sub, files in os.walk(results_dir):\n",
    "    for f in files:\n",
    "        if f.endswith('.kinetics'):\n",
    "            files_to_move.append((master, f))\n",
    "            break"
   ]
  },
  {
   "cell_type": "code",
   "execution_count": 7,
   "metadata": {},
   "outputs": [
    {
     "data": {
      "text/plain": [
       "833"
      ]
     },
     "execution_count": 7,
     "metadata": {},
     "output_type": "execute_result"
    }
   ],
   "source": [
    "len(files_to_move)"
   ]
  },
  {
   "cell_type": "code",
   "execution_count": 8,
   "metadata": {},
   "outputs": [],
   "source": [
    "new_directory = '../autotst-results/'\n",
    "preexisting_files = os.listdir(new_directory)\n",
    "for master, f in files_to_move:\n",
    "    if f in preexisting_files:\n",
    "        continue\n",
    "    shutil.copyfile(\n",
    "        os.path.join(master, f),\n",
    "        os.path.join(new_directory, f)\n",
    "    )"
   ]
  }
 ],
 "metadata": {
  "kernelspec": {
   "display_name": "Python 3",
   "language": "python",
   "name": "python3"
  },
  "language_info": {
   "codemirror_mode": {
    "name": "ipython",
    "version": 3
   },
   "file_extension": ".py",
   "mimetype": "text/x-python",
   "name": "python",
   "nbconvert_exporter": "python",
   "pygments_lexer": "ipython3",
   "version": "3.7.5"
  }
 },
 "nbformat": 4,
 "nbformat_minor": 4
}
